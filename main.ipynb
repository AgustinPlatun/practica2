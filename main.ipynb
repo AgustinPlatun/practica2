{
 "cells": [
  {
   "cell_type": "markdown",
   "metadata": {},
   "source": [
    "### Asigno mis datos"
   ]
  },
  {
   "cell_type": "code",
   "execution_count": 15,
   "metadata": {},
   "outputs": [],
   "source": [
    "names = \"\"\" Agustin, Yanina, Andrés, Ariadna, Bautista, CAROLINA,\n",
    "CESAR, David, Diego, Dolores, DYLAN, ELIANA, Emanuel, Fabián, Noelia,\n",
    "Francsica', FEDERICO, Fernanda, GONZALO, Nancy \"\"\"\n",
    "\n",
    "goals = [0, 10, 4, 0, 5, 14, 0, 0, 7, 2, 1, 1, 1, 5, 6, 1, 1, 2, 0, 11]\n",
    "goals_avoided = [0, 2, 0, 0, 5, 2, 0, 0, 1, 2, 0, 5, 5, 0, 1, 0, 2, 3, 0, 0]\n",
    "assists = [0, 5, 1, 0, 5, 2, 0, 0, 1, 2, 1, 5, 5, 0, 1, 0, 2, 3, 1, 0]"
   ]
  },
  {
   "cell_type": "markdown",
   "metadata": {},
   "source": [
    "### Paso la variable names a una lista\n",
    "Simplemente para trabajar mejor con los datos y agrupo los datos en una lista de tuplas\n"
   ]
  },
  {
   "cell_type": "code",
   "execution_count": 16,
   "metadata": {},
   "outputs": [],
   "source": [
    "names = names.replace(\",\",\"\")\n",
    "list_names =names.split()\n",
    "data = list(zip(list_names,goals,goals_avoided,assists))"
   ]
  },
  {
   "cell_type": "markdown",
   "metadata": {},
   "source": [
    "### Punto 2"
   ]
  },
  {
   "cell_type": "code",
   "execution_count": 17,
   "metadata": {},
   "outputs": [
    {
     "ename": "UnboundLocalError",
     "evalue": "cannot access local variable 'aux' where it is not associated with a value",
     "output_type": "error",
     "traceback": [
      "\u001b[1;31m---------------------------------------------------------------------------\u001b[0m",
      "\u001b[1;31mUnboundLocalError\u001b[0m                         Traceback (most recent call last)",
      "Cell \u001b[1;32mIn[17], line 2\u001b[0m\n\u001b[0;32m      1\u001b[0m \u001b[38;5;28;01mfrom\u001b[39;00m \u001b[38;5;21;01mmodulos\u001b[39;00m \u001b[38;5;28;01mimport\u001b[39;00m funciones\n\u001b[1;32m----> 2\u001b[0m goal_scorer \u001b[38;5;241m=\u001b[39m \u001b[43mfunciones\u001b[49m\u001b[38;5;241;43m.\u001b[39;49m\u001b[43mgoals_maximun\u001b[49m\u001b[43m(\u001b[49m\u001b[43mdata\u001b[49m\u001b[43m)\u001b[49m\n\u001b[0;32m      3\u001b[0m \u001b[38;5;28mprint\u001b[39m(goal_scorer)\n",
      "File \u001b[1;32mc:\\Users\\agusp\\Desktop\\SeminarioPY\\Practica2\\modulos\\funciones.py:7\u001b[0m, in \u001b[0;36mgoals_maximun\u001b[1;34m(players)\u001b[0m\n\u001b[0;32m      5\u001b[0m         maximun \u001b[38;5;241m=\u001b[39m player[\u001b[38;5;241m1\u001b[39m]\n\u001b[0;32m      6\u001b[0m         aux \u001b[38;5;241m=\u001b[39m(player[\u001b[38;5;241m0\u001b[39m],player[\u001b[38;5;241m1\u001b[39m])\n\u001b[1;32m----> 7\u001b[0m \u001b[38;5;28;01mreturn\u001b[39;00m \u001b[43maux\u001b[49m\n",
      "\u001b[1;31mUnboundLocalError\u001b[0m: cannot access local variable 'aux' where it is not associated with a value"
     ]
    }
   ],
   "source": [
    "from modulos import funciones\n",
    "goal_scorer = funciones.goals_maximun(data)\n",
    "print(goal_scorer)"
   ]
  }
 ],
 "metadata": {
  "kernelspec": {
   "display_name": "venv",
   "language": "python",
   "name": "python3"
  },
  "language_info": {
   "codemirror_mode": {
    "name": "ipython",
    "version": 3
   },
   "file_extension": ".py",
   "mimetype": "text/x-python",
   "name": "python",
   "nbconvert_exporter": "python",
   "pygments_lexer": "ipython3",
   "version": "3.11.2"
  }
 },
 "nbformat": 4,
 "nbformat_minor": 2
}
