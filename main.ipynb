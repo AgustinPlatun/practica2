{
 "cells": [
  {
   "cell_type": "markdown",
   "metadata": {},
   "source": [
    "### Asigno mis datos"
   ]
  },
  {
   "cell_type": "code",
   "execution_count": 41,
   "metadata": {},
   "outputs": [],
   "source": [
    "names = \"\"\" Agustin, Yanina, Andrés, Ariadna, Bautista, CAROLINA,\n",
    "CESAR, David, Diego, Dolores, DYLAN, ELIANA, Emanuel, Fabián, Noelia,\n",
    "Francsica', FEDERICO, Fernanda, GONZALO, Nancy \"\"\"\n",
    "\n",
    "goals = [0, 10, 4, 0, 5, 14, 0, 0, 7, 2, 1, 1, 1, 5, 6, 1, 1, 2, 0, 11]\n",
    "goals_avoided = [0, 2, 0, 0, 5, 2, 0, 0, 1, 2, 0, 5, 5, 0, 1, 0, 2, 3, 0, 0]\n",
    "assists = [0, 5, 1, 0, 5, 2, 0, 0, 1, 2, 1, 5, 5, 0, 1, 0, 2, 3, 1, 0]"
   ]
  },
  {
   "cell_type": "markdown",
   "metadata": {},
   "source": [
    "### Paso la variable names a una lista\n",
    "Simplemente para trabajar mejor con los datos y agrupo los datos en una lista de tuplas\n"
   ]
  },
  {
   "cell_type": "code",
   "execution_count": 42,
   "metadata": {},
   "outputs": [
    {
     "name": "stdout",
     "output_type": "stream",
     "text": [
      "[('Agustin', 0, 0, 0), ('Yanina', 10, 2, 5), ('Andrés', 4, 0, 1), ('Ariadna', 0, 0, 0), ('Bautista', 5, 5, 5), ('CAROLINA', 14, 2, 2), ('CESAR', 0, 0, 0), ('David', 0, 0, 0), ('Diego', 7, 1, 1), ('Dolores', 2, 2, 2), ('DYLAN', 1, 0, 1), ('ELIANA', 1, 5, 5), ('Emanuel', 1, 5, 5), ('Fabián', 5, 0, 0), ('Noelia', 6, 1, 1), (\"Francsica'\", 1, 0, 0), ('FEDERICO', 1, 2, 2), ('Fernanda', 2, 3, 3), ('GONZALO', 0, 0, 1), ('Nancy', 11, 0, 0)]\n"
     ]
    }
   ],
   "source": [
    "#Le saco las comas para hacer un split y con el split paso todos los nombres a una lista\n",
    "names = names.replace(\",\",\"\")\n",
    "list_names =names.split()\n",
    "\n",
    "#Uso el zip para comprimir las listas en tuplas\n",
    "data = list(zip(list_names,goals,goals_avoided,assists))\n",
    "\n",
    "print(data)"
   ]
  },
  {
   "cell_type": "markdown",
   "metadata": {},
   "source": [
    "### Punto 2"
   ]
  },
  {
   "cell_type": "code",
   "execution_count": 43,
   "metadata": {},
   "outputs": [
    {
     "name": "stdout",
     "output_type": "stream",
     "text": [
      "('CAROLINA', 14)\n"
     ]
    }
   ],
   "source": [
    "#importo las funciones\n",
    "from modules import functions\n",
    "\n",
    "#Llamo a la funcion para ver quien tiene el maximo de goles\n",
    "goal_scorer = functions.maximum(data)\n",
    "\n",
    "print(goal_scorer)"
   ]
  },
  {
   "cell_type": "markdown",
   "metadata": {},
   "source": [
    "### Punto 3"
   ]
  },
  {
   "cell_type": "code",
   "execution_count": 47,
   "metadata": {},
   "outputs": [
    {
     "name": "stdout",
     "output_type": "stream",
     "text": [
      "('CAROLINA', 25.5)\n"
     ]
    }
   ],
   "source": [
    "#Llamo a una funcion que calcula la efectividad de l@s jugador@s\n",
    "effectiveness = list(map lambda d: (d[0],d[1]* 1.5 + d[2] * 1.25 + d[3]),data)\n",
    "\n",
    "#Vuelvo a usar la funcion maximum para sacar maximo pero esta vez de goleadores\n",
    "max_effectiveness = functions.maximum(effectiveness)\n",
    "print(max_effectiveness)"
   ]
  }
 ],
 "metadata": {
  "kernelspec": {
   "display_name": "venv",
   "language": "python",
   "name": "python3"
  },
  "language_info": {
   "codemirror_mode": {
    "name": "ipython",
    "version": 3
   },
   "file_extension": ".py",
   "mimetype": "text/x-python",
   "name": "python",
   "nbconvert_exporter": "python",
   "pygments_lexer": "ipython3",
   "version": "3.11.2"
  }
 },
 "nbformat": 4,
 "nbformat_minor": 2
}
