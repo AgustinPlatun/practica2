{
 "cells": [
  {
   "cell_type": "markdown",
   "metadata": {},
   "source": [
    "### Asigno mis datos"
   ]
  },
  {
   "cell_type": "code",
   "execution_count": 9,
   "metadata": {},
   "outputs": [],
   "source": [
    "names = \"\"\" Agustin, Yanina, Andrés, Ariadna, Bautista, CAROLINA,\n",
    "CESAR, David, Diego, Dolores, DYLAN, ELIANA, Emanuel, Fabián, Noelia,\n",
    "Francsica', FEDERICO, Fernanda, GONZALO, Nancy \"\"\"\n",
    "\n",
    "goals = [0, 10, 4, 0, 5, 14, 0, 0, 7, 2, 1, 1, 1, 5, 6, 1, 1, 2, 0, 11]\n",
    "goals_avoided = [0, 2, 0, 0, 5, 2, 0, 0, 1, 2, 0, 5, 5, 0, 1, 0, 2, 3, 0, 0]\n",
    "assists = [0, 5, 1, 0, 5, 2, 0, 0, 1, 2, 1, 5, 5, 0, 1, 0, 2, 3, 1, 0]"
   ]
  },
  {
   "cell_type": "markdown",
   "metadata": {},
   "source": [
    "### Paso la variable names a una lista\n",
    "Simplemente para trabajar mejor con los datos y agrupo los datos en una lista de tuplas\n"
   ]
  },
  {
   "cell_type": "code",
   "execution_count": 10,
   "metadata": {},
   "outputs": [
    {
     "name": "stdout",
     "output_type": "stream",
     "text": [
      "[('Agustin', 0, 0, 0), ('Yanina', 10, 2, 5), ('Andrés', 4, 0, 1), ('Ariadna', 0, 0, 0), ('Bautista', 5, 5, 5), ('CAROLINA', 14, 2, 2), ('CESAR', 0, 0, 0), ('David', 0, 0, 0), ('Diego', 7, 1, 1), ('Dolores', 2, 2, 2), ('DYLAN', 1, 0, 1), ('ELIANA', 1, 5, 5), ('Emanuel', 1, 5, 5), ('Fabián', 5, 0, 0), ('Noelia', 6, 1, 1), (\"Francsica'\", 1, 0, 0), ('FEDERICO', 1, 2, 2), ('Fernanda', 2, 3, 3), ('GONZALO', 0, 0, 1), ('Nancy', 11, 0, 0)]\n"
     ]
    }
   ],
   "source": [
    "#Le saco las comas para hacer un split y con el split paso todos los nombres a una lista\n",
    "names = names.replace(\",\",\"\")\n",
    "list_names =names.split()\n",
    "\n",
    "#Uso el zip para comprimir las listas en tuplas\n",
    "data = list(zip(list_names,goals,goals_avoided,assists))\n",
    "\n",
    "print(data)"
   ]
  },
  {
   "cell_type": "markdown",
   "metadata": {},
   "source": [
    "### Punto 2"
   ]
  },
  {
   "cell_type": "code",
   "execution_count": 11,
   "metadata": {},
   "outputs": [
    {
     "name": "stdout",
     "output_type": "stream",
     "text": [
      "('CAROLINA', 14)\n"
     ]
    }
   ],
   "source": [
    "#importo las funciones\n",
    "from modules import functions\n",
    "\n",
    "#Llamo a la funcion para ver quien tiene el maximo de goles\n",
    "goal_scorer = functions.maximum(data)\n",
    "\n",
    "print(goal_scorer)"
   ]
  },
  {
   "cell_type": "markdown",
   "metadata": {},
   "source": [
    "### Punto 3"
   ]
  },
  {
   "cell_type": "code",
   "execution_count": 12,
   "metadata": {},
   "outputs": [
    {
     "name": "stdout",
     "output_type": "stream",
     "text": [
      "[('Agustin', 0.0), ('Yanina', 22.5), ('Andrés', 7.0), ('Ariadna', 0.0), ('Bautista', 18.75), ('CAROLINA', 25.5), ('CESAR', 0.0), ('David', 0.0), ('Diego', 12.75), ('Dolores', 7.5), ('DYLAN', 2.5), ('ELIANA', 12.75), ('Emanuel', 12.75), ('Fabián', 7.5), ('Noelia', 11.25), (\"Francsica'\", 1.5), ('FEDERICO', 6.0), ('Fernanda', 9.75), ('GONZALO', 1.0), ('Nancy', 16.5)]\n",
      "('CAROLINA', 25.5)\n"
     ]
    }
   ],
   "source": [
    "#Uso el map para iterar la lista y el lamdba para calcular la efectividad\n",
    "effectiveness = map(lambda d: (d[0],d[1]* 1.5 + d[2] * 1.25 + d[3]),data)\n",
    "effectiveness = list(effectiveness)\n",
    "print(effectiveness)\n",
    "\n",
    "#Vuelvo a usar la funcion maximum para sacar maximo pero esta vez de goleadores\n",
    "max_effectiveness = functions.maximum(effectiveness)\n",
    "\n",
    "print(max_effectiveness)"
   ]
  },
  {
   "cell_type": "markdown",
   "metadata": {},
   "source": [
    "### Punto 4"
   ]
  },
  {
   "cell_type": "code",
   "execution_count": 13,
   "metadata": {},
   "outputs": [
    {
     "name": "stdout",
     "output_type": "stream",
     "text": [
      "2.84\n"
     ]
    }
   ],
   "source": [
    "#Se llama a la funcion que calcula los goles totales y el resultado lo divido por la cantidad de partidos.\n",
    "average_per_game = functions.average_matches(data) / 25\n",
    "\n",
    "print(average_per_game)"
   ]
  },
  {
   "cell_type": "markdown",
   "metadata": {},
   "source": [
    "### Punto 5"
   ]
  },
  {
   "cell_type": "code",
   "execution_count": 14,
   "metadata": {},
   "outputs": [
    {
     "name": "stdout",
     "output_type": "stream",
     "text": [
      "0.56\n"
     ]
    }
   ],
   "source": [
    "#Uso una funcion lambda para saber el promedio de goles por partido del/la goleador/a .\n",
    "average_goal_scorer = lambda n1 ,n2 : n1 / n2\n",
    "\n",
    "print(average_goal_scorer(goal_scorer[1],25))"
   ]
  }
 ],
 "metadata": {
  "kernelspec": {
   "display_name": "venv",
   "language": "python",
   "name": "python3"
  },
  "language_info": {
   "codemirror_mode": {
    "name": "ipython",
    "version": 3
   },
   "file_extension": ".py",
   "mimetype": "text/x-python",
   "name": "python",
   "nbconvert_exporter": "python",
   "pygments_lexer": "ipython3",
   "version": "3.11.2"
  }
 },
 "nbformat": 4,
 "nbformat_minor": 2
}
